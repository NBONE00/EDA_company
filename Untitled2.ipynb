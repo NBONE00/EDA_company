{
 "cells": [
  {
   "cell_type": "code",
   "execution_count": 31,
   "id": "08d14dfe",
   "metadata": {},
   "outputs": [],
   "source": [
    "import pandas as pd\n",
    "import matplotlib.pyplot as plt\n",
    "import seaborn as sns \n",
    "import math \n",
    "import missingno as msno\n",
    "import numpy as np "
   ]
  },
  {
   "cell_type": "code",
   "execution_count": 32,
   "id": "344ea766",
   "metadata": {},
   "outputs": [],
   "source": [
    "df_cust = pd.read_csv(\"/Users/noahbonekamp/Desktop/kunden.csv\", sep=\";\")\n",
    "df_vis = pd.read_csv(\"/Users/noahbonekamp/Desktop/besucher.csv\", sep=\";\")\n",
    "df_geo = pd.read_csv(\"/Users/noahbonekamp/Desktop/geo_test.csv\", delimiter=\";\")"
   ]
  },
  {
   "cell_type": "code",
   "execution_count": 33,
   "id": "d274af5c",
   "metadata": {},
   "outputs": [],
   "source": [
    "df_geo['Niederlassung']= df_geo['Niederlassung'].astype(str)\n",
    "df_geo['Niederlassung'] = df_geo['Niederlassung'].str.title()\n",
    "mapping = {\n",
    "    'Berlin-Mitte': 'Berlin',\n",
    "    'Berlin-Charlottenburg': 'Berlin',\n",
    "    'Nrw': 'Nordrein-Westfalen',\n",
    "    'Düsseldorf': 'Nordrein-Westfalen'\n",
    "}\n",
    "df_geo['Niederlassung'] = df_geo['Niederlassung'].replace(mapping, regex=True)"
   ]
  },
  {
   "cell_type": "code",
   "execution_count": 34,
   "id": "099c57a7",
   "metadata": {},
   "outputs": [
    {
     "name": "stdout",
     "output_type": "stream",
     "text": [
      "['Sachsen', 'Nordrein-Westfalen', 'Hessen', 'Bayern', 'Baden-Württemberg', 'Nordrhein-Westfalen', 'Berlin', 'Niedersachsen', 'Brandenburg', 'Thüringen', 'Hamburg']\n",
      "11\n"
     ]
    }
   ],
   "source": [
    "uniques = list(df_geo['Niederlassung'].unique())\n",
    "print(uniques)\n",
    "print(df_geo['Niederlassung'].nunique())"
   ]
  },
  {
   "cell_type": "code",
   "execution_count": 35,
   "id": "f3ba68c4",
   "metadata": {},
   "outputs": [],
   "source": [
    "cust_m = pd.merge(df_cust, df_geo, how='left', on='KundeNr')\n",
    "vis_m = pd.merge(df_vis, df_geo, how='left', on='KundeNr')"
   ]
  },
  {
   "cell_type": "code",
   "execution_count": 36,
   "id": "48fea289",
   "metadata": {},
   "outputs": [
    {
     "data": {
      "text/html": [
       "<div>\n",
       "<style scoped>\n",
       "    .dataframe tbody tr th:only-of-type {\n",
       "        vertical-align: middle;\n",
       "    }\n",
       "\n",
       "    .dataframe tbody tr th {\n",
       "        vertical-align: top;\n",
       "    }\n",
       "\n",
       "    .dataframe thead th {\n",
       "        text-align: right;\n",
       "    }\n",
       "</style>\n",
       "<table border=\"1\" class=\"dataframe\">\n",
       "  <thead>\n",
       "    <tr style=\"text-align: right;\">\n",
       "      <th></th>\n",
       "      <th>count</th>\n",
       "      <th>mean</th>\n",
       "      <th>std</th>\n",
       "      <th>min</th>\n",
       "      <th>25%</th>\n",
       "      <th>50%</th>\n",
       "      <th>75%</th>\n",
       "      <th>max</th>\n",
       "    </tr>\n",
       "  </thead>\n",
       "  <tbody>\n",
       "    <tr>\n",
       "      <th>Alter</th>\n",
       "      <td>1104.0</td>\n",
       "      <td>50.481884</td>\n",
       "      <td>12.225059</td>\n",
       "      <td>30.00</td>\n",
       "      <td>40.0000</td>\n",
       "      <td>51.000</td>\n",
       "      <td>61.000</td>\n",
       "      <td>120.00</td>\n",
       "    </tr>\n",
       "    <tr>\n",
       "      <th>Preis</th>\n",
       "      <td>1104.0</td>\n",
       "      <td>88975.198714</td>\n",
       "      <td>24464.067781</td>\n",
       "      <td>21471.65</td>\n",
       "      <td>70609.4225</td>\n",
       "      <td>88931.455</td>\n",
       "      <td>107093.375</td>\n",
       "      <td>165482.31</td>\n",
       "    </tr>\n",
       "    <tr>\n",
       "      <th>Geschlecht</th>\n",
       "      <td>1099.0</td>\n",
       "      <td>0.637853</td>\n",
       "      <td>0.480840</td>\n",
       "      <td>0.00</td>\n",
       "      <td>0.0000</td>\n",
       "      <td>1.000</td>\n",
       "      <td>1.000</td>\n",
       "      <td>1.00</td>\n",
       "    </tr>\n",
       "    <tr>\n",
       "      <th>Zeit</th>\n",
       "      <td>1104.0</td>\n",
       "      <td>44.375906</td>\n",
       "      <td>10.848040</td>\n",
       "      <td>12.00</td>\n",
       "      <td>37.0000</td>\n",
       "      <td>44.000</td>\n",
       "      <td>52.000</td>\n",
       "      <td>80.00</td>\n",
       "    </tr>\n",
       "  </tbody>\n",
       "</table>\n",
       "</div>"
      ],
      "text/plain": [
       "             count          mean           std       min         25%  \\\n",
       "Alter       1104.0     50.481884     12.225059     30.00     40.0000   \n",
       "Preis       1104.0  88975.198714  24464.067781  21471.65  70609.4225   \n",
       "Geschlecht  1099.0      0.637853      0.480840      0.00      0.0000   \n",
       "Zeit        1104.0     44.375906     10.848040     12.00     37.0000   \n",
       "\n",
       "                  50%         75%        max  \n",
       "Alter          51.000      61.000     120.00  \n",
       "Preis       88931.455  107093.375  165482.31  \n",
       "Geschlecht      1.000       1.000       1.00  \n",
       "Zeit           44.000      52.000      80.00  "
      ]
     },
     "execution_count": 36,
     "metadata": {},
     "output_type": "execute_result"
    }
   ],
   "source": [
    "cust_m.describe().T"
   ]
  },
  {
   "cell_type": "code",
   "execution_count": 37,
   "id": "fd697d0c",
   "metadata": {},
   "outputs": [
    {
     "data": {
      "text/html": [
       "<div>\n",
       "<style scoped>\n",
       "    .dataframe tbody tr th:only-of-type {\n",
       "        vertical-align: middle;\n",
       "    }\n",
       "\n",
       "    .dataframe tbody tr th {\n",
       "        vertical-align: top;\n",
       "    }\n",
       "\n",
       "    .dataframe thead th {\n",
       "        text-align: right;\n",
       "    }\n",
       "</style>\n",
       "<table border=\"1\" class=\"dataframe\">\n",
       "  <thead>\n",
       "    <tr style=\"text-align: right;\">\n",
       "      <th></th>\n",
       "      <th>count</th>\n",
       "      <th>mean</th>\n",
       "      <th>std</th>\n",
       "      <th>min</th>\n",
       "      <th>25%</th>\n",
       "      <th>50%</th>\n",
       "      <th>75%</th>\n",
       "      <th>max</th>\n",
       "    </tr>\n",
       "  </thead>\n",
       "  <tbody>\n",
       "    <tr>\n",
       "      <th>Alter</th>\n",
       "      <td>891.0</td>\n",
       "      <td>49.881033</td>\n",
       "      <td>11.865889</td>\n",
       "      <td>30.0</td>\n",
       "      <td>40.0</td>\n",
       "      <td>49.0</td>\n",
       "      <td>60.0</td>\n",
       "      <td>70.0</td>\n",
       "    </tr>\n",
       "    <tr>\n",
       "      <th>Geschlecht</th>\n",
       "      <td>891.0</td>\n",
       "      <td>0.578002</td>\n",
       "      <td>0.494156</td>\n",
       "      <td>0.0</td>\n",
       "      <td>0.0</td>\n",
       "      <td>1.0</td>\n",
       "      <td>1.0</td>\n",
       "      <td>1.0</td>\n",
       "    </tr>\n",
       "    <tr>\n",
       "      <th>Zeit</th>\n",
       "      <td>891.0</td>\n",
       "      <td>35.166105</td>\n",
       "      <td>10.476802</td>\n",
       "      <td>3.0</td>\n",
       "      <td>28.0</td>\n",
       "      <td>35.0</td>\n",
       "      <td>43.0</td>\n",
       "      <td>68.0</td>\n",
       "    </tr>\n",
       "  </tbody>\n",
       "</table>\n",
       "</div>"
      ],
      "text/plain": [
       "            count       mean        std   min   25%   50%   75%   max\n",
       "Alter       891.0  49.881033  11.865889  30.0  40.0  49.0  60.0  70.0\n",
       "Geschlecht  891.0   0.578002   0.494156   0.0   0.0   1.0   1.0   1.0\n",
       "Zeit        891.0  35.166105  10.476802   3.0  28.0  35.0  43.0  68.0"
      ]
     },
     "execution_count": 37,
     "metadata": {},
     "output_type": "execute_result"
    }
   ],
   "source": [
    "vis_m.describe().T"
   ]
  },
  {
   "cell_type": "code",
   "execution_count": null,
   "id": "9f9ebbc3",
   "metadata": {},
   "outputs": [],
   "source": []
  },
  {
   "cell_type": "code",
   "execution_count": null,
   "id": "f8ea3a1a",
   "metadata": {},
   "outputs": [],
   "source": []
  },
  {
   "cell_type": "code",
   "execution_count": null,
   "id": "b1497172",
   "metadata": {},
   "outputs": [],
   "source": []
  },
  {
   "cell_type": "code",
   "execution_count": null,
   "id": "34106059",
   "metadata": {},
   "outputs": [],
   "source": []
  },
  {
   "cell_type": "code",
   "execution_count": null,
   "id": "c0f0f43b",
   "metadata": {},
   "outputs": [],
   "source": []
  },
  {
   "cell_type": "code",
   "execution_count": null,
   "id": "5ac6233d",
   "metadata": {},
   "outputs": [],
   "source": []
  },
  {
   "cell_type": "code",
   "execution_count": null,
   "id": "e47376e4",
   "metadata": {},
   "outputs": [],
   "source": []
  },
  {
   "cell_type": "code",
   "execution_count": null,
   "id": "3829526c",
   "metadata": {},
   "outputs": [],
   "source": []
  },
  {
   "cell_type": "code",
   "execution_count": null,
   "id": "8f733a7e",
   "metadata": {},
   "outputs": [],
   "source": []
  },
  {
   "cell_type": "code",
   "execution_count": null,
   "id": "68ac2aae",
   "metadata": {},
   "outputs": [],
   "source": []
  }
 ],
 "metadata": {
  "kernelspec": {
   "display_name": "Python 3 (ipykernel)",
   "language": "python",
   "name": "python3"
  },
  "language_info": {
   "codemirror_mode": {
    "name": "ipython",
    "version": 3
   },
   "file_extension": ".py",
   "mimetype": "text/x-python",
   "name": "python",
   "nbconvert_exporter": "python",
   "pygments_lexer": "ipython3",
   "version": "3.11.4"
  }
 },
 "nbformat": 4,
 "nbformat_minor": 5
}
